{
 "cells": [
  {
   "cell_type": "code",
   "execution_count": 1,
   "metadata": {},
   "outputs": [],
   "source": [
    "import numpy as np\n",
    "from scipy.special import ellipe\n",
    "from scipy.optimize import minimize"
   ]
  },
  {
   "cell_type": "markdown",
   "metadata": {},
   "source": [
    "# Estimating the Perimeter of an Ellipse (sort of)\n",
    "\n",
    "Inspired by [this](https://www.youtube.com/watch?v=5nW3nJhBHL0) video I wanted to go about trying to come up with \"formulas\" for estimating ellipses. \n",
    "\n",
    "This notebook (for now!) will try and see if we can get a reasonable perimeter "
   ]
  },
  {
   "cell_type": "code",
   "execution_count": 2,
   "metadata": {},
   "outputs": [],
   "source": [
    "# formula for perimeter of ellipse\n",
    "\n",
    "def true_perim(a, b):\n",
    "    '''\n",
    "    Calculates true perimeter of ellipse\n",
    "    by using integration formula:\n",
    "    \n",
    "    \\int_0^{\\pi/2} [1 - m \\sin(t)^2]^{1/2} dt\n",
    "    \n",
    "    where m is the eccentricity of the ellipse\n",
    "    '''\n",
    "    \n",
    "    e_sq = 1.0 - b**2/a**2\n",
    "    perimeter = 4 * a * ellipe(e_sq)\n",
    "    \n",
    "    return perimeter"
   ]
  },
  {
   "cell_type": "code",
   "execution_count": 3,
   "metadata": {},
   "outputs": [
    {
     "data": {
      "text/plain": [
       "6.283185307179586"
      ]
     },
     "execution_count": 3,
     "metadata": {},
     "output_type": "execute_result"
    }
   ],
   "source": [
    "true_perim(1, 1)"
   ]
  },
  {
   "cell_type": "markdown",
   "metadata": {},
   "source": [
    "We are now going to \"estimate\" our own \"neater\" formula.\n",
    "\n",
    "Lets make a simple formula.\n",
    "\n",
    "We can start with $\\beta_a a + \\beta_b b$ where we want to estimate $\\beta := (\\beta_a, \\beta_b)$."
   ]
  },
  {
   "cell_type": "code",
   "execution_count": 4,
   "metadata": {},
   "outputs": [],
   "source": [
    "def peri_lin(params, a, b):\n",
    "    \n",
    "    '''\n",
    "    Linear formula for perimeter:\n",
    "    \n",
    "    perimeter = params[0] * a + params[1] * b\n",
    "    '''\n",
    "    beta_a = params[0]\n",
    "    beta_b = params[1]\n",
    "    \n",
    "    perimeter = beta_a * a + beta_b * b\n",
    "    \n",
    "    return perimeter"
   ]
  },
  {
   "cell_type": "markdown",
   "metadata": {},
   "source": [
    "At the moment this makes no sense at all because we dont know what the parameters that we want to estimate are! \n",
    "\n",
    "We need one more thing before we can estimate things - an objective function to minimize.\n",
    "\n",
    "The objective function should use the true perimeter formula that we have. A standard objective function that we can use is the squared deviation.\n",
    "\n",
    "$$\n",
    "L = (Perimeter_{linear}(\\beta_a, \\beta_b) - Perimeter_{true})^2\n",
    "$$\n",
    "\n",
    "This is all done ofcourse for given values of $a$ and $b$."
   ]
  },
  {
   "cell_type": "code",
   "execution_count": 5,
   "metadata": {},
   "outputs": [],
   "source": [
    "def objective(params, a, b):\n",
    "    \n",
    "    obj = (peri_lin(params, a, b) - true_perim(a, b)) ** 2\n",
    "    \n",
    "    return obj"
   ]
  },
  {
   "cell_type": "code",
   "execution_count": 6,
   "metadata": {},
   "outputs": [],
   "source": [
    "def get_estimates(a, b, obj):\n",
    "\n",
    "    result = minimize(obj,\n",
    "                        [1., 1.],\n",
    "                        (a, b))\n",
    "    \n",
    "    return result"
   ]
  },
  {
   "cell_type": "code",
   "execution_count": 7,
   "metadata": {},
   "outputs": [],
   "source": [
    "result = get_estimates(5, 2, objective)"
   ]
  },
  {
   "cell_type": "code",
   "execution_count": 8,
   "metadata": {},
   "outputs": [
    {
     "name": "stdout",
     "output_type": "stream",
     "text": [
      "beta_a = 3.760881221929044 \n",
      "beta_b = 2.1043533973165705\n"
     ]
    }
   ],
   "source": [
    "beta_a, beta_b = result.x\n",
    "print(f\"beta_a = {beta_a} \\nbeta_b = {beta_b}\")"
   ]
  },
  {
   "cell_type": "markdown",
   "metadata": {},
   "source": [
    "Our estimates tell us that the perimeter formula should be:\n",
    "\n",
    "$$\n",
    "Perimeter = 3.76 a + 2.104 b\n",
    "$$\n",
    "\n",
    "What we can do to check our results is see how far we are from the true perimeter!"
   ]
  },
  {
   "cell_type": "code",
   "execution_count": 10,
   "metadata": {},
   "outputs": [
    {
     "name": "stdout",
     "output_type": "stream",
     "text": [
      "3.086135187402306e-07\n"
     ]
    }
   ],
   "source": [
    "a = 5\n",
    "b = 2\n",
    "estimated_perim = beta_a * a + beta_b * b\n",
    "true_perim = true_perim(a, b)\n",
    "print(estimated_perim - true_perim)"
   ]
  },
  {
   "cell_type": "markdown",
   "metadata": {},
   "source": [
    "So the error is REALLY small. So thats good. We can compare it to some \"intuitive\" formulas that we can guess from what we know about circles"
   ]
  },
  {
   "cell_type": "code",
   "execution_count": 11,
   "metadata": {},
   "outputs": [],
   "source": [
    "def circle_formula_for_ellipse_1(a, b):\n",
    "    \n",
    "    perimeter = 2 * np.pi * (a + b)/2\n",
    "    \n",
    "    return perimeter"
   ]
  },
  {
   "cell_type": "code",
   "execution_count": 12,
   "metadata": {},
   "outputs": [
    {
     "name": "stdout",
     "output_type": "stream",
     "text": [
      "-1.0219640205362914\n"
     ]
    }
   ],
   "source": [
    "print(circle_formula_for_ellipse_1(a, b) - true_perim)"
   ]
  },
  {
   "cell_type": "markdown",
   "metadata": {},
   "source": [
    "So our formula is clearly better. As it should be according to decades of optimization theory.\n",
    "\n",
    "But ofcourse this is a HIGHLY specific formula for given values of $a$ and $b$. But the nice thing about the objective function being a squared deviation is that we can actually get a closed form solution by minimizing it by hand!"
   ]
  }
 ],
 "metadata": {
  "kernelspec": {
   "display_name": "Python 3",
   "language": "python",
   "name": "python3"
  },
  "language_info": {
   "codemirror_mode": {
    "name": "ipython",
    "version": 3
   },
   "file_extension": ".py",
   "mimetype": "text/x-python",
   "name": "python",
   "nbconvert_exporter": "python",
   "pygments_lexer": "ipython3",
   "version": "3.7.4"
  }
 },
 "nbformat": 4,
 "nbformat_minor": 4
}
