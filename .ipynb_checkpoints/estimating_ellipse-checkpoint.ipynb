{
 "cells": [
  {
   "cell_type": "code",
   "execution_count": 1,
   "metadata": {},
   "outputs": [],
   "source": [
    "import numpy as np\n",
    "from scipy.special import ellipe\n",
    "from scipy.optimize import minimize\n",
    "import matplotlib.pyplot as plt"
   ]
  },
  {
   "cell_type": "markdown",
   "metadata": {},
   "source": [
    "# Estimating the Perimeter of an Ellipse (sort of)\n",
    "\n",
    "Inspired by [this](https://www.youtube.com/watch?v=5nW3nJhBHL0) video I wanted to go about trying to come up with \"formulas\" for estimating ellipses. \n",
    "\n",
    "This notebook (for now!) will try and see if we can get a reasonable perimeter "
   ]
  },
  {
   "cell_type": "code",
   "execution_count": 2,
   "metadata": {},
   "outputs": [],
   "source": [
    "# formula for perimeter of ellipse\n",
    "\n",
    "def true_perim(a, b):\n",
    "    '''\n",
    "    Calculates true perimeter of ellipse\n",
    "    by using integration formula:\n",
    "    \n",
    "    \\int_0^{\\pi/2} [1 - m \\sin(t)^2]^{1/2} dt\n",
    "    \n",
    "    where m is the eccentricity of the ellipse\n",
    "    '''\n",
    "    \n",
    "    e_sq = 1.0 - b**2/a**2\n",
    "    perimeter = 4 * a * ellipe(e_sq)\n",
    "    \n",
    "    return perimeter"
   ]
  },
  {
   "cell_type": "code",
   "execution_count": 3,
   "metadata": {},
   "outputs": [
    {
     "data": {
      "text/plain": [
       "6.283185307179586"
      ]
     },
     "execution_count": 3,
     "metadata": {},
     "output_type": "execute_result"
    }
   ],
   "source": [
    "true_perim(1, 1)"
   ]
  },
  {
   "cell_type": "markdown",
   "metadata": {},
   "source": [
    "We are now going to \"estimate\" our own \"neater\" formula.\n",
    "\n",
    "Ramanujan famously had many formulas for the perimeter of an ellipse. In this notebook we use one of them:\n",
    "\n",
    "$$\n",
    "\\pi [3(a + b) - \\sqrt{(3a + b) (a + 3b)}]\n",
    "$$\n",
    "\n",
    "This is an incredibly accurate formula. Amazingly Ramanujan had even more accurate approximations for the perimeter but our method here is basically to take the functional form of a formula and then get better parameters to go with our formula. "
   ]
  },
  {
   "cell_type": "code",
   "execution_count": 4,
   "metadata": {},
   "outputs": [],
   "source": [
    "def ramanujan_formula(a, b):\n",
    "    \n",
    "    perimeter = np.pi * (3 * (a + b) - np.sqrt((3 * a + b) * (a + 3 * b)))\n",
    "    \n",
    "    return perimeter"
   ]
  },
  {
   "cell_type": "code",
   "execution_count": 5,
   "metadata": {},
   "outputs": [],
   "source": [
    "def peri_flex(params, a, b):\n",
    "    \n",
    "    '''\n",
    "    Flexible formulation of ellipse perimeter\n",
    "    '''\n",
    "    \n",
    "    beta1 = params[0]\n",
    "    beta2 = params[1]\n",
    "    beta3 = params[2]\n",
    "    beta4 = params[3]\n",
    "    beta5 = params[4]\n",
    "\n",
    "    perimeter = np.pi * (beta1 * a + beta2 * b - np.sqrt(beta3 * a ** 2 + beta4 * a * b + beta5 * b ** 2))\n",
    "    \n",
    "    return perimeter"
   ]
  },
  {
   "cell_type": "code",
   "execution_count": 6,
   "metadata": {},
   "outputs": [],
   "source": [
    "def objective(params, agrid):\n",
    "    \n",
    "    obj = 0\n",
    "    for a in agrid:\n",
    "        obj += (peri_flex(params, a, 1) - true_perim(a, 1)) ** 2\n",
    "    \n",
    "    return obj"
   ]
  },
  {
   "cell_type": "code",
   "execution_count": 7,
   "metadata": {},
   "outputs": [],
   "source": [
    "def get_estimates(agrid, obj):\n",
    "\n",
    "    result = minimize(obj,\n",
    "                        np.ones(5),\n",
    "                        agrid,\n",
    "                     bounds = [(1e-6, None)] * 5)\n",
    "    \n",
    "    return result"
   ]
  },
  {
   "cell_type": "code",
   "execution_count": 8,
   "metadata": {},
   "outputs": [],
   "source": [
    "result = get_estimates(np.linspace(1, 5, 100), objective)"
   ]
  },
  {
   "cell_type": "code",
   "execution_count": 9,
   "metadata": {},
   "outputs": [
    {
     "data": {
      "text/plain": [
       "      fun: 2.2443392762830543e-06\n",
       " hess_inv: <5x5 LbfgsInvHessProduct with dtype=float64>\n",
       "      jac: array([ 1.67755577e-04,  4.72051902e-05, -3.67720790e-05, -8.84178442e-06,\n",
       "        7.70362074e-06])\n",
       "  message: b'CONVERGENCE: REL_REDUCTION_OF_F_<=_FACTR*EPSMCH'\n",
       "     nfev: 300\n",
       "      nit: 40\n",
       "   status: 0\n",
       "  success: True\n",
       "        x: array([1.97575442, 1.78773554, 0.492797  , 2.46277184, 0.15375005])"
      ]
     },
     "execution_count": 9,
     "metadata": {},
     "output_type": "execute_result"
    }
   ],
   "source": [
    "result"
   ]
  },
  {
   "cell_type": "code",
   "execution_count": 10,
   "metadata": {},
   "outputs": [],
   "source": [
    "agrid = np.linspace(1, 5, 100)\n",
    "flexi_perim = np.zeros(100)\n",
    "ramanujan_perim = np.zeros(100)\n",
    "\n",
    "for idx, a in enumerate(agrid):\n",
    "    flexi_perim[idx] = np.absolute(peri_flex(result.x, a, 1) - true_perim(a, 1))\n",
    "    ramanujan_perim[idx] = np.absolute(ramanujan_formula(a, 1) - true_perim(a, 1))\n"
   ]
  },
  {
   "cell_type": "code",
   "execution_count": 11,
   "metadata": {},
   "outputs": [
    {
     "data": {
      "image/png": "[encoded data removed]",
      "text/plain": [
       "<Figure size 432x288 with 1 Axes>"
      ]
     },
     "metadata": {
      "needs_background": "light"
     },
     "output_type": "display_data"
    }
   ],
   "source": [
    "fig, ax = plt.subplots()\n",
    "ax.plot(agrid, ramanujan_perim, label = \"Ramanujan Formula\")\n",
    "ax.plot(agrid, flexi_perim, label = \"Flexi Formula\")\n",
    "ax.set_title(\"Perimeter of an Ellipse (Absolute Errors)\")\n",
    "plt.legend()\n",
    "plt.savefig(\"moneychart.png\", dpi=300)"
   ]
  },
  {
   "cell_type": "code",
   "execution_count": 12,
   "metadata": {},
   "outputs": [
    {
     "data": {
      "text/plain": [
       "array([1.97575442, 1.78773554, 0.492797  , 2.46277184, 0.15375005])"
      ]
     },
     "execution_count": 12,
     "metadata": {},
     "output_type": "execute_result"
    }
   ],
   "source": [
    "result.x"
   ]
  },
  {
   "cell_type": "markdown",
   "metadata": {},
   "source": [
    "So my new elegant *ahem* formula for the perimeter of an ellipse is:\n",
    "\n",
    "$$\n",
    "\\pi (1.97575442a + 1.78773554b - \\sqrt{0.492797a^2 + 2.46277184ab + 0.15375005b^2})\n",
    "$$\n"
   ]
  }
 ],
 "metadata": {
  "kernelspec": {
   "display_name": "Python 3",
   "language": "python",
   "name": "python3"
  },
  "language_info": {
   "codemirror_mode": {
    "name": "ipython",
    "version": 3
   },
   "file_extension": ".py",
   "mimetype": "text/x-python",
   "name": "python",
   "nbconvert_exporter": "python",
   "pygments_lexer": "ipython3",
   "version": "3.7.4"
  }
 },
 "nbformat": 4,
 "nbformat_minor": 4
}
